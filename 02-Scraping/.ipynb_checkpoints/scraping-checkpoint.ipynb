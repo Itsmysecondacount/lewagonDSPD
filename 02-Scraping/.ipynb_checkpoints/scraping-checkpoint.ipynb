{
 "cells": [
  {
   "cell_type": "code",
   "execution_count": 6,
   "metadata": {
    "tags": [
     "challengify"
    ]
   },
   "outputs": [],
   "source": [
    "import requests\n",
    "from bs4 import BeautifulSoup\n",
    "import pandas as pd"
   ]
  },
  {
   "cell_type": "code",
   "execution_count": 17,
   "metadata": {},
   "outputs": [],
   "source": [
    "BASE_URL = \"http://books.toscrape.com/catalogue/\"\n",
    "\n",
    "# Función para obtener los enlaces de los libros de una página\n",
    "def get_books_urls(page_url):\n",
    "    response = requests.get(page_url)\n",
    "    soup = BeautifulSoup(response.text, 'html.parser')\n",
    "    books_urls = []\n",
    "    for book in soup.find('ol').find_all('li'):\n",
    "        book_url = book.find('article', class_='product_pod').find('div').find('a')['href']\n",
    "        books_urls.append(BASE_URL + book_url)\n",
    "    return books_urls\n",
    "\n",
    "# Función para extraer nombre, precio y rating de un libro\n",
    "def get_book_details(book_url):\n",
    "    response = requests.get(book_url)\n",
    "    soup = BeautifulSoup(response.text, 'html.parser')\n",
    "    product_main = soup.find('div', class_='col-sm-6 product_main')\n",
    "    name = product_main.find('h1').text\n",
    "    price = product_main.find('p', class_='price_color').text\n",
    "    rating_element = product_main.find('p', class_='star-rating')\n",
    "    if rating_element:\n",
    "        rating_class = rating_element.get('class')  # Esto devolverá una lista de clases\n",
    "        rating_conversion = {'One': 1, 'Two': 2, 'Three': 3, 'Four': 4, 'Five': 5}\n",
    "        # Asumiendo que siempre hay una clase que indica el rating y es única\n",
    "        rating = rating_conversion.get(rating_class[1], None) if rating_class else None\n",
    "    else:\n",
    "        rating = None\n",
    "    return {'name': name, 'price': price, 'rating': rating}\n",
    "\n",
    "# Función para iterar sobre las páginas y extraer los datos\n",
    "def scrape_books(num_pages):\n",
    "    books_details = []\n",
    "    for i in range(1, num_pages + 1):\n",
    "        page_url = f\"http://books.toscrape.com/catalogue/page-{i}.html\"\n",
    "        books_urls = get_books_urls(page_url)\n",
    "        for book_url in books_urls:\n",
    "            book_details = get_book_details(book_url)\n",
    "            books_details.append(book_details)\n",
    "    return books_details"
   ]
  },
  {
   "cell_type": "code",
   "execution_count": 18,
   "metadata": {},
   "outputs": [
    {
     "name": "stdout",
     "output_type": "stream",
     "text": [
      "['star-rating', 'Three']\n",
      "['star-rating', 'One']\n",
      "['star-rating', 'One']\n",
      "['star-rating', 'Four']\n",
      "['star-rating', 'Five']\n",
      "['star-rating', 'One']\n",
      "['star-rating', 'Four']\n",
      "['star-rating', 'Three']\n",
      "['star-rating', 'Four']\n",
      "['star-rating', 'One']\n",
      "['star-rating', 'Two']\n",
      "['star-rating', 'Four']\n",
      "['star-rating', 'Five']\n",
      "['star-rating', 'Five']\n",
      "['star-rating', 'Five']\n",
      "['star-rating', 'Three']\n",
      "['star-rating', 'One']\n",
      "['star-rating', 'One']\n",
      "['star-rating', 'Two']\n",
      "['star-rating', 'Two']\n",
      "['star-rating', 'One']\n",
      "['star-rating', 'Two']\n",
      "['star-rating', 'Three']\n",
      "['star-rating', 'Five']\n",
      "['star-rating', 'Five']\n",
      "['star-rating', 'Three']\n",
      "['star-rating', 'Three']\n",
      "['star-rating', 'Three']\n",
      "['star-rating', 'Five']\n",
      "['star-rating', 'Four']\n",
      "['star-rating', 'Five']\n",
      "['star-rating', 'Three']\n",
      "['star-rating', 'Five']\n",
      "['star-rating', 'One']\n",
      "['star-rating', 'Five']\n",
      "['star-rating', 'Three']\n",
      "['star-rating', 'Two']\n",
      "['star-rating', 'One']\n",
      "['star-rating', 'Four']\n",
      "['star-rating', 'Two']\n",
      "                                                 name    price rating\n",
      "0                                A Light in the Attic  Â£51.77   None\n",
      "1                                  Tipping the Velvet  Â£53.74   None\n",
      "2                                          Soumission  Â£50.10   None\n",
      "3                                       Sharp Objects  Â£47.82   None\n",
      "4               Sapiens: A Brief History of Humankind  Â£54.23   None\n",
      "5                                     The Requiem Red  Â£22.65   None\n",
      "6   The Dirty Little Secrets of Getting Your Dream...  Â£33.34   None\n",
      "7   The Coming Woman: A Novel Based on the Life of...  Â£17.93   None\n",
      "8   The Boys in the Boat: Nine Americans and Their...  Â£22.60   None\n",
      "9                                     The Black Maria  Â£52.15   None\n",
      "10     Starving Hearts (Triangular Trade Trilogy, #1)  Â£13.99   None\n",
      "11                              Shakespeare's Sonnets  Â£20.66   None\n",
      "12                                        Set Me Free  Â£17.46   None\n",
      "13  Scott Pilgrim's Precious Little Life (Scott Pi...  Â£52.29   None\n",
      "14                          Rip it Up and Start Again  Â£35.02   None\n",
      "15  Our Band Could Be Your Life: Scenes from the A...  Â£57.25   None\n",
      "16                                               Olio  Â£23.88   None\n",
      "17  Mesaerion: The Best Science Fiction Stories 18...  Â£37.59   None\n",
      "18                       Libertarianism for Beginners  Â£51.33   None\n",
      "19                            It's Only the Himalayas  Â£45.17   None\n",
      "20                                        In Her Wake  Â£12.84   None\n",
      "21                                    How Music Works  Â£37.32   None\n",
      "22  Foolproof Preserving: A Guide to Small Batch J...  Â£30.52   None\n",
      "23                         Chase Me (Paris Nights #2)  Â£25.27   None\n",
      "24                                         Black Dust  Â£34.53   None\n",
      "25                      Birdsong: A Story in Pictures  Â£54.64   None\n",
      "26  America's Cradle of Quarterbacks: Western Penn...  Â£22.50   None\n",
      "27                     Aladdin and His Wonderful Lamp  Â£53.13   None\n",
      "28  Worlds Elsewhere: Journeys Around Shakespeareâ...  Â£40.30   None\n",
      "29                                     Wall and Piece  Â£44.18   None\n",
      "30  The Four Agreements: A Practical Guide to Pers...  Â£17.66   None\n",
      "31  The Five Love Languages: How to Express Heartf...  Â£31.05   None\n",
      "32                                  The Elephant Tree  Â£23.82   None\n",
      "33                             The Bear and the Piano  Â£36.89   None\n",
      "34                                     Sophie's World  Â£15.94   None\n",
      "35                                        Penny Maybe  Â£33.29   None\n",
      "36     Maude (1883-1993):She Grew Up with the country  Â£18.02   None\n",
      "37                               In a Dark, Dark Wood  Â£19.63   None\n",
      "38                                Behind Closed Doors  Â£52.22   None\n",
      "39                     You can't bury them all: Poems  Â£33.63   None\n"
     ]
    }
   ],
   "source": [
    "books_data = scrape_books(2)\n",
    "books_df = pd.DataFrame(books_data)\n",
    "print(books_df)"
   ]
  },
  {
   "cell_type": "code",
   "execution_count": null,
   "metadata": {},
   "outputs": [],
   "source": [
    "print"
   ]
  }
 ],
 "metadata": {
  "kernelspec": {
   "display_name": "Python 3 (ipykernel)",
   "language": "python",
   "name": "python3"
  },
  "language_info": {
   "codemirror_mode": {
    "name": "ipython",
    "version": 3
   },
   "file_extension": ".py",
   "mimetype": "text/x-python",
   "name": "python",
   "nbconvert_exporter": "python",
   "pygments_lexer": "ipython3",
   "version": "3.10.6"
  },
  "toc": {
   "base_numbering": 1,
   "nav_menu": {},
   "number_sections": true,
   "sideBar": true,
   "skip_h1_title": false,
   "title_cell": "Table of Contents",
   "title_sidebar": "Contents",
   "toc_cell": false,
   "toc_position": {},
   "toc_section_display": true,
   "toc_window_display": false
  }
 },
 "nbformat": 4,
 "nbformat_minor": 4
}
